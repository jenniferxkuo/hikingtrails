{
 "cells": [
  {
   "cell_type": "code",
   "execution_count": 2,
   "metadata": {},
   "outputs": [],
   "source": [
    "#imports\n",
    "import pandas as pd\n",
    "import numpy as np\n",
    "import matplotlib.pyplot as plt\n",
    "from scipy import stats\n"
   ]
  },
  {
   "cell_type": "code",
   "execution_count": 4,
   "metadata": {},
   "outputs": [
    {
     "data": {
      "text/html": [
       "<div>\n",
       "<style scoped>\n",
       "    .dataframe tbody tr th:only-of-type {\n",
       "        vertical-align: middle;\n",
       "    }\n",
       "\n",
       "    .dataframe tbody tr th {\n",
       "        vertical-align: top;\n",
       "    }\n",
       "\n",
       "    .dataframe thead th {\n",
       "        text-align: right;\n",
       "    }\n",
       "</style>\n",
       "<table border=\"1\" class=\"dataframe\">\n",
       "  <thead>\n",
       "    <tr style=\"text-align: right;\">\n",
       "      <th></th>\n",
       "      <th>TITLE</th>\n",
       "      <th>REGION</th>\n",
       "      <th>DISTANCE</th>\n",
       "      <th>DIST_TYPE</th>\n",
       "      <th>GAIN</th>\n",
       "      <th>HIGHEST</th>\n",
       "      <th>RATING</th>\n",
       "      <th>RATING_COUNT</th>\n",
       "      <th>LATITUDE</th>\n",
       "      <th>LONGITUDE</th>\n",
       "      <th>REPORT_DATE</th>\n",
       "      <th>REPORT_COUNT</th>\n",
       "      <th>URL</th>\n",
       "    </tr>\n",
       "  </thead>\n",
       "  <tbody>\n",
       "    <tr>\n",
       "      <th>0</th>\n",
       "      <td>2773' 353'P</td>\n",
       "      <td>Central Cascades</td>\n",
       "      <td>NaN</td>\n",
       "      <td>NaN</td>\n",
       "      <td>NaN</td>\n",
       "      <td>NaN</td>\n",
       "      <td>0.0</td>\n",
       "      <td>0</td>\n",
       "      <td>NaN</td>\n",
       "      <td>NaN</td>\n",
       "      <td>2011-01-18</td>\n",
       "      <td>1</td>\n",
       "      <td>https://www.wta.org/go-hiking/hikes/2773-353p</td>\n",
       "    </tr>\n",
       "    <tr>\n",
       "      <th>1</th>\n",
       "      <td>360 Trails</td>\n",
       "      <td>Puget Sound and Islands</td>\n",
       "      <td>NaN</td>\n",
       "      <td>NaN</td>\n",
       "      <td>NaN</td>\n",
       "      <td>NaN</td>\n",
       "      <td>0.0</td>\n",
       "      <td>0</td>\n",
       "      <td>47.389053</td>\n",
       "      <td>-122.683876</td>\n",
       "      <td>NaN</td>\n",
       "      <td>0</td>\n",
       "      <td>https://www.wta.org/go-hiking/hikes/360-trails</td>\n",
       "    </tr>\n",
       "    <tr>\n",
       "      <th>2</th>\n",
       "      <td>45 Mile Sheep Drive</td>\n",
       "      <td>Central Cascades</td>\n",
       "      <td>4.9</td>\n",
       "      <td>one-way</td>\n",
       "      <td>NaN</td>\n",
       "      <td>3144.0</td>\n",
       "      <td>4.0</td>\n",
       "      <td>5</td>\n",
       "      <td>48.024502</td>\n",
       "      <td>-120.650212</td>\n",
       "      <td>2008-08-09</td>\n",
       "      <td>4</td>\n",
       "      <td>https://www.wta.org/go-hiking/hikes/45-mile-sh...</td>\n",
       "    </tr>\n",
       "    <tr>\n",
       "      <th>3</th>\n",
       "      <td>520 Trail</td>\n",
       "      <td>Puget Sound and Islands</td>\n",
       "      <td>4.9</td>\n",
       "      <td>one-way</td>\n",
       "      <td>164.0</td>\n",
       "      <td>164.0</td>\n",
       "      <td>2.5</td>\n",
       "      <td>2</td>\n",
       "      <td>47.645136</td>\n",
       "      <td>-122.301863</td>\n",
       "      <td>2020-08-14</td>\n",
       "      <td>12</td>\n",
       "      <td>https://www.wta.org/go-hiking/hikes/520-trail</td>\n",
       "    </tr>\n",
       "    <tr>\n",
       "      <th>4</th>\n",
       "      <td>76 Creek</td>\n",
       "      <td>North Cascades</td>\n",
       "      <td>NaN</td>\n",
       "      <td>NaN</td>\n",
       "      <td>NaN</td>\n",
       "      <td>NaN</td>\n",
       "      <td>0.0</td>\n",
       "      <td>0</td>\n",
       "      <td>NaN</td>\n",
       "      <td>NaN</td>\n",
       "      <td>2020-09-21</td>\n",
       "      <td>7</td>\n",
       "      <td>https://www.wta.org/go-hiking/hikes/76-creek-t...</td>\n",
       "    </tr>\n",
       "  </tbody>\n",
       "</table>\n",
       "</div>"
      ],
      "text/plain": [
       "                 TITLE                   REGION  DISTANCE DIST_TYPE   GAIN  \\\n",
       "0          2773' 353'P         Central Cascades       NaN       NaN    NaN   \n",
       "1           360 Trails  Puget Sound and Islands       NaN       NaN    NaN   \n",
       "2  45 Mile Sheep Drive         Central Cascades       4.9   one-way    NaN   \n",
       "3            520 Trail  Puget Sound and Islands       4.9   one-way  164.0   \n",
       "4             76 Creek           North Cascades       NaN       NaN    NaN   \n",
       "\n",
       "   HIGHEST  RATING  RATING_COUNT   LATITUDE   LONGITUDE REPORT_DATE  \\\n",
       "0      NaN     0.0             0        NaN         NaN  2011-01-18   \n",
       "1      NaN     0.0             0  47.389053 -122.683876         NaN   \n",
       "2   3144.0     4.0             5  48.024502 -120.650212  2008-08-09   \n",
       "3    164.0     2.5             2  47.645136 -122.301863  2020-08-14   \n",
       "4      NaN     0.0             0        NaN         NaN  2020-09-21   \n",
       "\n",
       "   REPORT_COUNT                                                URL  \n",
       "0             1      https://www.wta.org/go-hiking/hikes/2773-353p  \n",
       "1             0     https://www.wta.org/go-hiking/hikes/360-trails  \n",
       "2             4  https://www.wta.org/go-hiking/hikes/45-mile-sh...  \n",
       "3            12      https://www.wta.org/go-hiking/hikes/520-trail  \n",
       "4             7  https://www.wta.org/go-hiking/hikes/76-creek-t...  "
      ]
     },
     "execution_count": 4,
     "metadata": {},
     "output_type": "execute_result"
    },
    {
     "data": {
      "image/png": "[encoded data removed]",
      "text/plain": [
       "<matplotlib.figure.Figure at 0x7f8d8d911c18>"
      ]
     },
     "metadata": {},
     "output_type": "display_data"
    }
   ],
   "source": [
    "#load data\n",
    "df = pd.read_csv(\"2021-03-29_wta_hike_data.csv\")\n",
    "df.sort_values(by=\"REPORT_COUNT\",ascending=False).index[:99]\n",
    "plt.hist(df[\"REPORT_COUNT\"].loc[df[\"REPORT_COUNT\"]>200])\n",
    "#top100=df.iloc[df.sort_values(by=\"REPORT_COUNT\",ascending=False).index[:99],:]\n",
    "df.head()"
   ]
  },
  {
   "cell_type": "code",
   "execution_count": 5,
   "metadata": {},
   "outputs": [
    {
     "name": "stdout",
     "output_type": "stream",
     "text": [
      "Number of NaN: 1227\n",
      "one-way:\n",
      "    nobs         minmax       mean     variance   skewness    kurtosis\n",
      "0   252  (0.1, 1200.0)  17.035833  5987.576938  14.320095  215.574959\n",
      "roundtrip:\n",
      "    nobs        minmax      mean  variance   skewness    kurtosis\n",
      "0  2278  (0.1, 300.0)  7.270667  82.70547  15.907942  475.535203\n",
      "trails:\n",
      "    nobs       minmax      mean    variance  skewness   kurtosis\n",
      "0   144  (0.2, 68.4)  6.669514  100.805812  3.849176  17.740866\n"
     ]
    },
    {
     "data": {
      "image/png": "[encoded data removed]",
      "text/plain": [
       "<matplotlib.figure.Figure at 0x7f8d8954e7f0>"
      ]
     },
     "metadata": {},
     "output_type": "display_data"
    },
    {
     "data": {
      "image/png": "[encoded data removed]",
      "text/plain": [
       "<matplotlib.figure.Figure at 0x7f8d8cc21cf8>"
      ]
     },
     "metadata": {},
     "output_type": "display_data"
    },
    {
     "data": {
      "image/png": "[encoded data removed]",
      "text/plain": [
       "<matplotlib.figure.Figure at 0x7f8d8cc82f60>"
      ]
     },
     "metadata": {},
     "output_type": "display_data"
    },
    {
     "data": {
      "image/png": "[encoded data removed]",
      "text/plain": [
       "<matplotlib.figure.Figure at 0x7f8d8cd57b38>"
      ]
     },
     "metadata": {},
     "output_type": "display_data"
    }
   ],
   "source": [
    "#DISTANCE/TRIP LENGTH (MILES)\n",
    "\n",
    "print(\"Number of NaN:\", df[\"DISTANCE\"].isna().sum()) #get number of empty entries\n",
    "\n",
    "oneway = df[df['DIST_TYPE']==\"one-way\"]\n",
    "roundtrip = df[df['DIST_TYPE']==\"roundtrip\"] \n",
    "trails = df[df['DIST_TYPE']==\"trails\"] \n",
    "\n",
    "a=stats.describe(oneway[\"DISTANCE\"])\n",
    "print(\"one-way:\\n\",pd.DataFrame([a], columns=a._fields))\n",
    "\n",
    "a=stats.describe(roundtrip[\"DISTANCE\"])\n",
    "print(\"roundtrip:\\n\",pd.DataFrame([a], columns=a._fields))\n",
    "\n",
    "a=stats.describe(trails[\"DISTANCE\"])\n",
    "print(\"trails:\\n\",pd.DataFrame([a], columns=a._fields))\n",
    "\n",
    "\n",
    "\n",
    "#unfiltered\n",
    "plt.boxplot(oneway[\"DISTANCE\"])\n",
    "plt.title(\"Length of hikes (one-way)\")\n",
    "plt.show()\n",
    "\n",
    "plt.boxplot(roundtrip[\"DISTANCE\"])\n",
    "plt.title(\"Length of hikes (round-trip)\")\n",
    "plt.show()\n",
    "\n",
    "#filtered\n",
    "plt.boxplot(oneway[\"DISTANCE\"].loc[oneway[\"DISTANCE\"]<30])\n",
    "plt.title(\"Length of hikes (<30miles, one-way)\")\n",
    "plt.show()\n",
    "\n",
    "plt.boxplot(roundtrip[\"DISTANCE\"].loc[roundtrip[\"DISTANCE\"]<30])\n",
    "plt.title(\"Length of hikes (<30miles, roundtrip)\")\n",
    "plt.show()\n",
    "\n"
   ]
  },
  {
   "cell_type": "code",
   "execution_count": 21,
   "metadata": {},
   "outputs": [
    {
     "name": "stdout",
     "output_type": "stream",
     "text": [
      "Number of NaN: 1699\n",
      "   nobs          minmax         mean      variance  skewness   kurtosis\n",
      "0  2202  (8.0, 27996.0)  1706.512716  3.732141e+06   4.47446  42.165566\n"
     ]
    },
    {
     "data": {
      "image/png": "[encoded data removed]",
      "text/plain": [
       "<matplotlib.figure.Figure at 0x7f8d8d530588>"
      ]
     },
     "metadata": {},
     "output_type": "display_data"
    }
   ],
   "source": [
    "#GAIN (elevation gain?)\n",
    "print(\"Number of NaN:\", df[\"GAIN\"].isna().sum()) #get number of empty entries\n",
    "a=stats.describe(df[\"GAIN\"].dropna())\n",
    "print(pd.DataFrame([a], columns=a._fields))\n",
    "\n",
    "plt.hist(df[\"GAIN\"].dropna().loc[df[\"GAIN\"]<15000])\n",
    "plt.show()"
   ]
  },
  {
   "cell_type": "code",
   "execution_count": 27,
   "metadata": {},
   "outputs": [
    {
     "name": "stdout",
     "output_type": "stream",
     "text": [
      "Number of NaN: 1613\n",
      "   nobs          minmax         mean      variance  skewness  kurtosis\n",
      "0  2288  (5.0, 12276.0)  3850.225962  5.930982e+06  0.011566 -1.025437\n"
     ]
    },
    {
     "data": {
      "image/png": "[encoded data removed]",
      "text/plain": [
       "<matplotlib.figure.Figure at 0x7f8d89534748>"
      ]
     },
     "metadata": {},
     "output_type": "display_data"
    }
   ],
   "source": [
    "#HIGHEST ELEVATION\n",
    "print(\"Number of NaN:\", df[\"HIGHEST\"].isna().sum()) #get number of empty entries\n",
    "\n",
    "a=stats.describe(df[\"HIGHEST\"].dropna())\n",
    "print(pd.DataFrame([a], columns=a._fields))\n",
    "plt.hist(df[\"HIGHEST\"].dropna())\n",
    "plt.show()"
   ]
  },
  {
   "cell_type": "code",
   "execution_count": 57,
   "metadata": {},
   "outputs": [
    {
     "name": "stdout",
     "output_type": "stream",
     "text": [
      "Number of ratings\n",
      "Number of empty fields: 863\n",
      "   nobs    minmax      mean    variance   skewness    kurtosis\n",
      "0  3901  (0, 339)  6.700333  288.198126  10.144174  145.246743\n"
     ]
    },
    {
     "data": {
      "image/png": "[encoded data removed]",
      "text/plain": [
       "<matplotlib.figure.Figure at 0x7f8d8db2d9b0>"
      ]
     },
     "metadata": {},
     "output_type": "display_data"
    },
    {
     "name": "stdout",
     "output_type": "stream",
     "text": [
      "Ratings\n",
      "   nobs      minmax      mean  variance  skewness  kurtosis\n",
      "0  3038  (1.0, 5.0)  3.359329  0.694706 -0.292849  0.048935\n"
     ]
    },
    {
     "data": {
      "image/png": "[encoded data removed]",
      "text/plain": [
       "<matplotlib.figure.Figure at 0x7f8d8dc2a2e8>"
      ]
     },
     "metadata": {},
     "output_type": "display_data"
    }
   ],
   "source": [
    "#RATING_COUNT\n",
    "print(\"Number of ratings\")\n",
    "print(\"Number of empty fields:\", df[df[\"RATING_COUNT\"]==0][\"RATING_COUNT\"].count()) #get number of empty entries\n",
    "a=stats.describe(df[\"RATING_COUNT\"])\n",
    "print(pd.DataFrame([a], columns=a._fields))\n",
    "\n",
    "\n",
    "plt.hist(df[\"RATING_COUNT\"])\n",
    "plt.show()\n",
    "\n",
    "#RATING\n",
    "print(\"Ratings\")\n",
    "#print(\"Number of empty fields:\", df[df[\"RATING\"]==0][\"RATING\"].count()) #get number of empty entries\n",
    "ratings_filt = df[df[\"RATING\"]>0]\n",
    "a=stats.describe(ratings_filt[\"RATING\"])\n",
    "print(pd.DataFrame([a], columns=a._fields))\n",
    "plt.hist(ratings_filt[\"RATING\"])\n",
    "plt.hist(ratings_filt[ratings_filt[\"RATING_COUNT\"]>4][\"RATING\"])\n",
    "plt.hist(ratings_filt[ratings_filt[\"RATING_COUNT\"]>9][\"RATING\"])\n",
    "\n",
    "\n",
    "plt.show()\n",
    "\n"
   ]
  },
  {
   "cell_type": "code",
   "execution_count": null,
   "metadata": {},
   "outputs": [],
   "source": []
  }
 ],
 "metadata": {
  "kernelspec": {
   "display_name": "Python 3",
   "language": "python",
   "name": "python3"
  },
  "language_info": {
   "codemirror_mode": {
    "name": "ipython",
    "version": 3
   },
   "file_extension": ".py",
   "mimetype": "text/x-python",
   "name": "python",
   "nbconvert_exporter": "python",
   "pygments_lexer": "ipython3",
   "version": "3.6.4"
  }
 },
 "nbformat": 4,
 "nbformat_minor": 2
}
