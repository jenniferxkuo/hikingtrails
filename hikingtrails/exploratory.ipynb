{
 "cells": [
  {
   "cell_type": "markdown",
   "metadata": {},
   "source": [
    "Notebook for i259 final project"
   ]
  },
  {
   "cell_type": "code",
   "execution_count": 1,
   "metadata": {},
   "outputs": [],
   "source": [
    "#imports\n",
    "import pandas as pd\n",
    "import numpy as np\n",
    "import matplotlib.pyplot as plt\n",
    "\n",
    "\n",
    "from bs4 import BeautifulSoup \n",
    "import requests\n",
    "import urllib3\n",
    "from datetime import datetime as dt\n",
    "import pandas as pd\n",
    "import json"
   ]
  },
  {
   "cell_type": "code",
   "execution_count": 26,
   "metadata": {},
   "outputs": [],
   "source": [
    "def get_html_rows(url):\n",
    "    r = requests.get(url, verify=False) \n",
    "    s = BeautifulSoup(r.content, 'html5lib') \n",
    "    html = s.prettify()\n",
    "    return html.splitlines()"
   ]
  },
  {
   "cell_type": "code",
   "execution_count": 32,
   "metadata": {},
   "outputs": [
    {
     "data": {
      "text/html": [
       "<div>\n",
       "<style scoped>\n",
       "    .dataframe tbody tr th:only-of-type {\n",
       "        vertical-align: middle;\n",
       "    }\n",
       "\n",
       "    .dataframe tbody tr th {\n",
       "        vertical-align: top;\n",
       "    }\n",
       "\n",
       "    .dataframe thead th {\n",
       "        text-align: right;\n",
       "    }\n",
       "</style>\n",
       "<table border=\"1\" class=\"dataframe\">\n",
       "  <thead>\n",
       "    <tr style=\"text-align: right;\">\n",
       "      <th></th>\n",
       "      <th>TITLE</th>\n",
       "      <th>REGION</th>\n",
       "      <th>DISTANCE</th>\n",
       "      <th>DIST_TYPE</th>\n",
       "      <th>GAIN</th>\n",
       "      <th>HIGHEST</th>\n",
       "      <th>RATING</th>\n",
       "      <th>RATING_COUNT</th>\n",
       "      <th>LATITUDE</th>\n",
       "      <th>LONGITUDE</th>\n",
       "      <th>REPORT_DATE</th>\n",
       "      <th>REPORT_COUNT</th>\n",
       "      <th>URL</th>\n",
       "    </tr>\n",
       "  </thead>\n",
       "  <tbody>\n",
       "    <tr>\n",
       "      <th>0</th>\n",
       "      <td>2773' 353'P</td>\n",
       "      <td>Central Cascades</td>\n",
       "      <td>NaN</td>\n",
       "      <td>NaN</td>\n",
       "      <td>NaN</td>\n",
       "      <td>NaN</td>\n",
       "      <td>0.0</td>\n",
       "      <td>0</td>\n",
       "      <td>NaN</td>\n",
       "      <td>NaN</td>\n",
       "      <td>2011-01-18</td>\n",
       "      <td>1</td>\n",
       "      <td>https://www.wta.org/go-hiking/hikes/2773-353p</td>\n",
       "    </tr>\n",
       "    <tr>\n",
       "      <th>1</th>\n",
       "      <td>360 Trails</td>\n",
       "      <td>Puget Sound and Islands</td>\n",
       "      <td>NaN</td>\n",
       "      <td>NaN</td>\n",
       "      <td>NaN</td>\n",
       "      <td>NaN</td>\n",
       "      <td>0.0</td>\n",
       "      <td>0</td>\n",
       "      <td>47.389053</td>\n",
       "      <td>-122.683876</td>\n",
       "      <td>NaN</td>\n",
       "      <td>0</td>\n",
       "      <td>https://www.wta.org/go-hiking/hikes/360-trails</td>\n",
       "    </tr>\n",
       "    <tr>\n",
       "      <th>2</th>\n",
       "      <td>45 Mile Sheep Drive</td>\n",
       "      <td>Central Cascades</td>\n",
       "      <td>4.9</td>\n",
       "      <td>one-way</td>\n",
       "      <td>NaN</td>\n",
       "      <td>3144.0</td>\n",
       "      <td>4.0</td>\n",
       "      <td>5</td>\n",
       "      <td>48.024502</td>\n",
       "      <td>-120.650212</td>\n",
       "      <td>2008-08-09</td>\n",
       "      <td>4</td>\n",
       "      <td>https://www.wta.org/go-hiking/hikes/45-mile-sh...</td>\n",
       "    </tr>\n",
       "    <tr>\n",
       "      <th>3</th>\n",
       "      <td>520 Trail</td>\n",
       "      <td>Puget Sound and Islands</td>\n",
       "      <td>4.9</td>\n",
       "      <td>one-way</td>\n",
       "      <td>164.0</td>\n",
       "      <td>164.0</td>\n",
       "      <td>2.5</td>\n",
       "      <td>2</td>\n",
       "      <td>47.645136</td>\n",
       "      <td>-122.301863</td>\n",
       "      <td>2020-08-14</td>\n",
       "      <td>12</td>\n",
       "      <td>https://www.wta.org/go-hiking/hikes/520-trail</td>\n",
       "    </tr>\n",
       "    <tr>\n",
       "      <th>4</th>\n",
       "      <td>76 Creek</td>\n",
       "      <td>North Cascades</td>\n",
       "      <td>NaN</td>\n",
       "      <td>NaN</td>\n",
       "      <td>NaN</td>\n",
       "      <td>NaN</td>\n",
       "      <td>0.0</td>\n",
       "      <td>0</td>\n",
       "      <td>NaN</td>\n",
       "      <td>NaN</td>\n",
       "      <td>2020-09-21</td>\n",
       "      <td>7</td>\n",
       "      <td>https://www.wta.org/go-hiking/hikes/76-creek-t...</td>\n",
       "    </tr>\n",
       "  </tbody>\n",
       "</table>\n",
       "</div>"
      ],
      "text/plain": [
       "                 TITLE                   REGION  DISTANCE DIST_TYPE   GAIN  \\\n",
       "0          2773' 353'P         Central Cascades       NaN       NaN    NaN   \n",
       "1           360 Trails  Puget Sound and Islands       NaN       NaN    NaN   \n",
       "2  45 Mile Sheep Drive         Central Cascades       4.9   one-way    NaN   \n",
       "3            520 Trail  Puget Sound and Islands       4.9   one-way  164.0   \n",
       "4             76 Creek           North Cascades       NaN       NaN    NaN   \n",
       "\n",
       "   HIGHEST  RATING  RATING_COUNT   LATITUDE   LONGITUDE REPORT_DATE  \\\n",
       "0      NaN     0.0             0        NaN         NaN  2011-01-18   \n",
       "1      NaN     0.0             0  47.389053 -122.683876         NaN   \n",
       "2   3144.0     4.0             5  48.024502 -120.650212  2008-08-09   \n",
       "3    164.0     2.5             2  47.645136 -122.301863  2020-08-14   \n",
       "4      NaN     0.0             0        NaN         NaN  2020-09-21   \n",
       "\n",
       "   REPORT_COUNT                                                URL  \n",
       "0             1      https://www.wta.org/go-hiking/hikes/2773-353p  \n",
       "1             0     https://www.wta.org/go-hiking/hikes/360-trails  \n",
       "2             4  https://www.wta.org/go-hiking/hikes/45-mile-sh...  \n",
       "3            12      https://www.wta.org/go-hiking/hikes/520-trail  \n",
       "4             7  https://www.wta.org/go-hiking/hikes/76-creek-t...  "
      ]
     },
     "execution_count": 32,
     "metadata": {},
     "output_type": "execute_result"
    },
    {
     "data": {
      "image/png": "[encoded data removed]",
      "text/plain": [
       "<Figure size 432x288 with 1 Axes>"
      ]
     },
     "metadata": {
      "needs_background": "light"
     },
     "output_type": "display_data"
    }
   ],
   "source": [
    "#load data\n",
    "\n",
    "#originaldata\n",
    "df = pd.read_csv(\"/Users/emilygrabowski/Desktop/i259-final/2021-03-29_wta_hike_data.csv\")\n",
    "df.sort_values(by=\"REPORT_COUNT\",ascending=False).index[:99]\n",
    "plt.hist(df[\"REPORT_COUNT\"].loc[df[\"REPORT_COUNT\"]>200])\n",
    "top100=df.iloc[df.sort_values(by=\"REPORT_COUNT\",ascending=False).index[:99],:]\n",
    "df.head()"
   ]
  },
  {
   "cell_type": "code",
   "execution_count": 285,
   "metadata": {},
   "outputs": [],
   "source": [
    "reports=pd.read_csv(\"tripreports.csv\")\n",
    "reports[\"Issues\"].unique()\n",
    "reports[\"nchar\"] = reports[\"Text\"].str.split().str.len()"
   ]
  },
  {
   "cell_type": "code",
   "execution_count": 287,
   "metadata": {},
   "outputs": [
    {
     "data": {
      "image/png": "[encoded data removed]",
      "text/plain": [
       "<Figure size 432x288 with 1 Axes>"
      ]
     },
     "metadata": {
      "needs_background": "light"
     },
     "output_type": "display_data"
    }
   ],
   "source": [
    "fig=plt.figure()\n",
    "plt.hist(np.log(reports[\"nchar\"]))\n",
    "xt = np.log([1,10,100,1000,10000])\n",
    "xl = [str(round(np.exp(x))) for x in xt]\n",
    "plt.xticks(xt,xl)\n",
    "plt.title(\"Number of words in trip reports\")\n",
    "plt.xlabel(\"Number of words\")\n",
    "plt.ylabel(\"Number of trip reports\")\n",
    "plt.axvline(np.log(np.mean(reports[\"nchar\"])),color ='r')\n",
    "fig.savefig('words.png', bbox_inches='tight',dpi=150)"
   ]
  },
  {
   "cell_type": "code",
   "execution_count": 54,
   "metadata": {},
   "outputs": [
    {
     "data": {
      "text/plain": [
       "0         9\n",
       "1         8\n",
       "2         8\n",
       "3         8\n",
       "4         8\n",
       "         ..\n",
       "39595    12\n",
       "39596    12\n",
       "39597    12\n",
       "39598    12\n",
       "39599    12\n",
       "Name: Date, Length: 39600, dtype: int64"
      ]
     },
     "execution_count": 54,
     "metadata": {},
     "output_type": "execute_result"
    }
   ],
   "source": [
    "reports[\"Date\"]=pd.to_datetime(reports[\"Date\"])\n",
    "reports[\"Date\"].dt.year\n",
    "reports[\"Date\"].dt.month\n",
    "reports[\"Text\"] = reports[\"Text\"].str.encode(encoding='ascii', errors='ignore').str.decode(encoding = 'ascii').str.lower()"
   ]
  },
  {
   "cell_type": "code",
   "execution_count": 281,
   "metadata": {},
   "outputs": [
    {
     "data": {
      "image/png": "[encoded data removed]",
      "text/plain": [
       "<Figure size 432x288 with 1 Axes>"
      ]
     },
     "metadata": {
      "needs_background": "light"
     },
     "output_type": "display_data"
    }
   ],
   "source": [
    "fig = plt.figure()\n",
    "plt.plot(reports[\"Date\"].dt.strftime('%Y-%m').value_counts().sort_index())\n",
    "ax=plt.gca()\n",
    "ax.set_xticklabels(labels = reports[\"Date\"].dt.strftime('%Y-%m').value_counts().sort_index().index,rotation=90)\n",
    "plt.title(\"Number of trip reports each month\")\n",
    "plt.xlabel(\"Month\")\n",
    "plt.ylabel(\"Number of reports\")\n",
    "fig.savefig('dates.png', bbox_inches='tight',dpi=150)"
   ]
  },
  {
   "cell_type": "code",
   "execution_count": 90,
   "metadata": {},
   "outputs": [
    {
     "name": "stdout",
     "output_type": "stream",
     "text": [
      "There are 39600 trip reports in the dataset\n",
      "The earliest trip report is 2018-12-15 00:00:00 and the latest report is 2020-09-01 00:00:00\n",
      "The number of hikes 6031\n",
      "The percentage of hikes with more than 1 trip reports 1101\n"
     ]
    },
    {
     "data": {
      "text/plain": [
       "Iron Bear - Teanaway Ridge     101\n",
       "Grand Park via Lake Eleanor    102\n",
       "Heliotrope Ridge               103\n",
       "Skyline Trail Loop             103\n",
       "Lord Hill Regional Park        104\n",
       "                              ... \n",
       "Mount Si                       298\n",
       "Rattlesnake Ledge              318\n",
       "Annette Lake                   326\n",
       "Lake 22                        328\n",
       "Lake Serene                    337\n",
       "Name: Hike Name, Length: 63, dtype: int64"
      ]
     },
     "execution_count": 90,
     "metadata": {},
     "output_type": "execute_result"
    }
   ],
   "source": [
    "print(\"There are\",len(reports.index),\"trip reports in the dataset\")\n",
    "print(\"The earliest trip report is\",min(reports[\"Date\"]), \"and the latest report is\",max(reports[\"Date\"]))\n",
    "print(\"The number of hikes\",reports[\"Hike Name\"].nunique())\n",
    "\n",
    "print(\"The percentage of hikes with more than 1 trip reports\",len(reports[\"Hike Name\"].value_counts().sort_values()[reports[\"Hike Name\"].value_counts().sort_values()>5]))\n",
    "reports[\"Hike Name\"].value_counts().sort_values()[reports[\"Hike Name\"].value_counts().sort_values()>100]"
   ]
  },
  {
   "cell_type": "code",
   "execution_count": 323,
   "metadata": {},
   "outputs": [
    {
     "data": {
      "image/png": "[encoded data removed]",
      "text/plain": [
       "<Figure size 432x288 with 1 Axes>"
      ]
     },
     "metadata": {
      "needs_background": "light"
     },
     "output_type": "display_data"
    }
   ],
   "source": [
    "\n",
    "fig = plt.figure()\n",
    "plt.hist(np.log(reports[\"Hike Name\"].value_counts()).sort_index())\n",
    "ax=plt.gca()\n",
    "xt = np.log([1,10,100,500])\n",
    "xl = [str(round(np.exp(x))) for x in xt]\n",
    "plt.xticks(xt,xl)\n",
    "#ax.set_xticklabels(labels = reports[\"Date\"].dt.strftime('%Y-%m').value_counts().sort_index().index,rotation=90)\n",
    "plt.title(\"Trip reports by hike\")\n",
    "plt.xlabel(\"Log Number of trip reports\")\n",
    "plt.ylabel(\"Number of hikes\")\n",
    "plt.axvline(np.log(np.mean(reports[\"Hike Name\"].value_counts())),color ='r')\n",
    "fig.savefig('hikes.png', bbox_inches='tight',dpi=150)"
   ]
  },
  {
   "cell_type": "code",
   "execution_count": 105,
   "metadata": {},
   "outputs": [],
   "source": [
    "def clean_page(html, pretty_print=False):\n",
    "    from lxml.html import fromstring\n",
    "    from lxml.html import tostring\n",
    "    return tostring(fromstring(html), pretty_print=pretty_print)"
   ]
  },
  {
   "cell_type": "code",
   "execution_count": 175,
   "metadata": {},
   "outputs": [],
   "source": [
    "#clean text for bow\n",
    "\n",
    "from nltk.stem import WordNetLemmatizer, SnowballStemmer\n",
    "from nltk.stem.porter import *\n",
    "from nltk.tokenize import sent_tokenize, word_tokenize\n",
    "from gensim import corpora, models\n",
    "from pprint import pprint\n",
    "from gensim.parsing.preprocessing import STOPWORDS\n",
    "import string\n",
    "import re\n",
    "\n",
    "def preprocess_text_bow(text):\n",
    "    stemmer = SnowballStemmer(language='english')\n",
    "    tokens = [t for t in word_tokenize(text) if not t in STOPWORDS]\n",
    "    tokens = [WordNetLemmatizer().lemmatize(x) for x in tokens]\n",
    "    return(tokens)\n",
    "reports[\"Text\"] = reports[\"Text\"].str.replace(r'[^\\w\\s]','')\n",
    "reports = reports.dropna(subset=[\"Text\"])\n",
    "bow = []\n",
    "for t in reports[\"Text\"]:\n",
    "\n",
    "    bow.append(preprocess_text_bow(t))\n",
    "\n"
   ]
  },
  {
   "cell_type": "code",
   "execution_count": 300,
   "metadata": {},
   "outputs": [
    {
     "name": "stdout",
     "output_type": "stream",
     "text": [
      "[(0, 0.08786020179595769),\n",
      " (1, 0.1512071402075179),\n",
      " (2, 0.1323808198863417),\n",
      " (3, 0.13345706328737827),\n",
      " (4, 0.21980530193287132),\n",
      " (5, 0.0854003282661759),\n",
      " (6, 0.23753770450315975),\n",
      " (7, 0.2036601254955504),\n",
      " (8, 0.16119766272083524),\n",
      " (9, 0.1925509440580139),\n",
      " (10, 0.2683510143375814),\n",
      " (11, 0.056186799304374695),\n",
      " (12, 0.18408676107396071),\n",
      " (13, 0.0818699367918405),\n",
      " (14, 0.1623530762937038),\n",
      " (15, 0.22976044468078483),\n",
      " (16, 0.06431763946857423),\n",
      " (17, 0.12324152521614407),\n",
      " (18, 0.1137399064911942),\n",
      " (19, 0.14225128518426763),\n",
      " (20, 0.13227240903405063),\n",
      " (21, 0.08943786423906225),\n",
      " (22, 0.2079803314774219),\n",
      " (23, 0.21102433116220254),\n",
      " (24, 0.10763670616903104),\n",
      " (25, 0.2217528383728915),\n",
      " (26, 0.13608702650356613),\n",
      " (27, 0.10645130411425052),\n",
      " (28, 0.22710436851471769),\n",
      " (29, 0.08242759746404216),\n",
      " (30, 0.316149604850709),\n",
      " (31, 0.07345134520852238),\n",
      " (32, 0.055830909847418154),\n",
      " (33, 0.08125502486027394),\n",
      " (34, 0.1149547856310533),\n",
      " (35, 0.13046766716208044),\n",
      " (36, 0.2500801959544004)]\n"
     ]
    }
   ],
   "source": [
    "dictionary = corpora.Dictionary(bow)\n",
    "dictionary.filter_extremes(no_below=20, no_above=0.3, keep_n=10000)\n",
    "bow_corpus = [dictionary.doc2bow(doc) for doc in bow]\n",
    "tfidf = models.TfidfModel(bow_corpus)\n",
    "corpus_tfidf = tfidf[bow_corpus]\n",
    "from pprint import pprint\n",
    "for doc in corpus_tfidf:\n",
    "    pprint(doc)\n",
    "    break"
   ]
  },
  {
   "cell_type": "code",
   "execution_count": 324,
   "metadata": {},
   "outputs": [],
   "source": [
    "lda_model = models.LdaMulticore(bow_corpus, num_topics=100, id2word=dictionary, passes=2, workers=2)"
   ]
  },
  {
   "cell_type": "code",
   "execution_count": 288,
   "metadata": {},
   "outputs": [],
   "source": [
    "lda_model_tfidf = models.LdaMulticore(corpus_tfidf, num_topics=100, id2word=dictionary, passes=2, workers=4)"
   ]
  },
  {
   "cell_type": "code",
   "execution_count": 303,
   "metadata": {},
   "outputs": [
    {
     "ename": "IndexError",
     "evalue": "index 65 is out of bounds for axis 0 with size 25",
     "output_type": "error",
     "traceback": [
      "\u001b[0;31m---------------------------------------------------------------------------\u001b[0m",
      "\u001b[0;31mIndexError\u001b[0m                                Traceback (most recent call last)",
      "\u001b[0;32m<ipython-input-303-7eeeb7a30c54>\u001b[0m in \u001b[0;36m<module>\u001b[0;34m\u001b[0m\n\u001b[1;32m      1\u001b[0m \u001b[0;32mfor\u001b[0m \u001b[0mindex\u001b[0m\u001b[0;34m,\u001b[0m \u001b[0mscore\u001b[0m \u001b[0;32min\u001b[0m \u001b[0msorted\u001b[0m\u001b[0;34m(\u001b[0m\u001b[0mlda_model_tfidf\u001b[0m\u001b[0;34m[\u001b[0m\u001b[0mbow_corpus\u001b[0m\u001b[0;34m[\u001b[0m\u001b[0;36m6\u001b[0m\u001b[0;34m]\u001b[0m\u001b[0;34m]\u001b[0m\u001b[0;34m,\u001b[0m \u001b[0mkey\u001b[0m\u001b[0;34m=\u001b[0m\u001b[0;32mlambda\u001b[0m \u001b[0mtup\u001b[0m\u001b[0;34m:\u001b[0m \u001b[0;34m-\u001b[0m\u001b[0;36m1\u001b[0m\u001b[0;34m*\u001b[0m\u001b[0mtup\u001b[0m\u001b[0;34m[\u001b[0m\u001b[0;36m1\u001b[0m\u001b[0;34m]\u001b[0m\u001b[0;34m)\u001b[0m\u001b[0;34m:\u001b[0m\u001b[0;34m\u001b[0m\u001b[0;34m\u001b[0m\u001b[0m\n\u001b[0;32m----> 2\u001b[0;31m     \u001b[0mprint\u001b[0m\u001b[0;34m(\u001b[0m\u001b[0;34m\"\\nScore: {}\\t \\nTopic: {}\"\u001b[0m\u001b[0;34m.\u001b[0m\u001b[0mformat\u001b[0m\u001b[0;34m(\u001b[0m\u001b[0mscore\u001b[0m\u001b[0;34m,\u001b[0m \u001b[0mlda_model\u001b[0m\u001b[0;34m.\u001b[0m\u001b[0mprint_topic\u001b[0m\u001b[0;34m(\u001b[0m\u001b[0mindex\u001b[0m\u001b[0;34m,\u001b[0m \u001b[0;36m10\u001b[0m\u001b[0;34m)\u001b[0m\u001b[0;34m)\u001b[0m\u001b[0;34m)\u001b[0m\u001b[0;34m\u001b[0m\u001b[0;34m\u001b[0m\u001b[0m\n\u001b[0m",
      "\u001b[0;32m~/opt/anaconda3/lib/python3.7/site-packages/gensim/models/basemodel.py\u001b[0m in \u001b[0;36mprint_topic\u001b[0;34m(self, topicno, topn)\u001b[0m\n\u001b[1;32m     17\u001b[0m \u001b[0;34m\u001b[0m\u001b[0m\n\u001b[1;32m     18\u001b[0m         \"\"\"\n\u001b[0;32m---> 19\u001b[0;31m         \u001b[0;32mreturn\u001b[0m \u001b[0;34m' + '\u001b[0m\u001b[0;34m.\u001b[0m\u001b[0mjoin\u001b[0m\u001b[0;34m(\u001b[0m\u001b[0;34m'%.3f*\"%s\"'\u001b[0m \u001b[0;34m%\u001b[0m \u001b[0;34m(\u001b[0m\u001b[0mv\u001b[0m\u001b[0;34m,\u001b[0m \u001b[0mk\u001b[0m\u001b[0;34m)\u001b[0m \u001b[0;32mfor\u001b[0m \u001b[0mk\u001b[0m\u001b[0;34m,\u001b[0m \u001b[0mv\u001b[0m \u001b[0;32min\u001b[0m \u001b[0mself\u001b[0m\u001b[0;34m.\u001b[0m\u001b[0mshow_topic\u001b[0m\u001b[0;34m(\u001b[0m\u001b[0mtopicno\u001b[0m\u001b[0;34m,\u001b[0m \u001b[0mtopn\u001b[0m\u001b[0;34m)\u001b[0m\u001b[0;34m)\u001b[0m\u001b[0;34m\u001b[0m\u001b[0;34m\u001b[0m\u001b[0m\n\u001b[0m\u001b[1;32m     20\u001b[0m \u001b[0;34m\u001b[0m\u001b[0m\n\u001b[1;32m     21\u001b[0m     \u001b[0;32mdef\u001b[0m \u001b[0mprint_topics\u001b[0m\u001b[0;34m(\u001b[0m\u001b[0mself\u001b[0m\u001b[0;34m,\u001b[0m \u001b[0mnum_topics\u001b[0m\u001b[0;34m=\u001b[0m\u001b[0;36m20\u001b[0m\u001b[0;34m,\u001b[0m \u001b[0mnum_words\u001b[0m\u001b[0;34m=\u001b[0m\u001b[0;36m10\u001b[0m\u001b[0;34m)\u001b[0m\u001b[0;34m:\u001b[0m\u001b[0;34m\u001b[0m\u001b[0;34m\u001b[0m\u001b[0m\n",
      "\u001b[0;32m~/opt/anaconda3/lib/python3.7/site-packages/gensim/models/ldamodel.py\u001b[0m in \u001b[0;36mshow_topic\u001b[0;34m(self, topicid, topn)\u001b[0m\n\u001b[1;32m   1204\u001b[0m \u001b[0;34m\u001b[0m\u001b[0m\n\u001b[1;32m   1205\u001b[0m         \"\"\"\n\u001b[0;32m-> 1206\u001b[0;31m         \u001b[0;32mreturn\u001b[0m \u001b[0;34m[\u001b[0m\u001b[0;34m(\u001b[0m\u001b[0mself\u001b[0m\u001b[0;34m.\u001b[0m\u001b[0mid2word\u001b[0m\u001b[0;34m[\u001b[0m\u001b[0mid\u001b[0m\u001b[0;34m]\u001b[0m\u001b[0;34m,\u001b[0m \u001b[0mvalue\u001b[0m\u001b[0;34m)\u001b[0m \u001b[0;32mfor\u001b[0m \u001b[0mid\u001b[0m\u001b[0;34m,\u001b[0m \u001b[0mvalue\u001b[0m \u001b[0;32min\u001b[0m \u001b[0mself\u001b[0m\u001b[0;34m.\u001b[0m\u001b[0mget_topic_terms\u001b[0m\u001b[0;34m(\u001b[0m\u001b[0mtopicid\u001b[0m\u001b[0;34m,\u001b[0m \u001b[0mtopn\u001b[0m\u001b[0;34m)\u001b[0m\u001b[0;34m]\u001b[0m\u001b[0;34m\u001b[0m\u001b[0;34m\u001b[0m\u001b[0m\n\u001b[0m\u001b[1;32m   1207\u001b[0m \u001b[0;34m\u001b[0m\u001b[0m\n\u001b[1;32m   1208\u001b[0m     \u001b[0;32mdef\u001b[0m \u001b[0mget_topics\u001b[0m\u001b[0;34m(\u001b[0m\u001b[0mself\u001b[0m\u001b[0;34m)\u001b[0m\u001b[0;34m:\u001b[0m\u001b[0;34m\u001b[0m\u001b[0;34m\u001b[0m\u001b[0m\n",
      "\u001b[0;32m~/opt/anaconda3/lib/python3.7/site-packages/gensim/models/ldamodel.py\u001b[0m in \u001b[0;36mget_topic_terms\u001b[0;34m(self, topicid, topn)\u001b[0m\n\u001b[1;32m   1235\u001b[0m \u001b[0;34m\u001b[0m\u001b[0m\n\u001b[1;32m   1236\u001b[0m         \"\"\"\n\u001b[0;32m-> 1237\u001b[0;31m         \u001b[0mtopic\u001b[0m \u001b[0;34m=\u001b[0m \u001b[0mself\u001b[0m\u001b[0;34m.\u001b[0m\u001b[0mget_topics\u001b[0m\u001b[0;34m(\u001b[0m\u001b[0;34m)\u001b[0m\u001b[0;34m[\u001b[0m\u001b[0mtopicid\u001b[0m\u001b[0;34m]\u001b[0m\u001b[0;34m\u001b[0m\u001b[0;34m\u001b[0m\u001b[0m\n\u001b[0m\u001b[1;32m   1238\u001b[0m         \u001b[0mtopic\u001b[0m \u001b[0;34m=\u001b[0m \u001b[0mtopic\u001b[0m \u001b[0;34m/\u001b[0m \u001b[0mtopic\u001b[0m\u001b[0;34m.\u001b[0m\u001b[0msum\u001b[0m\u001b[0;34m(\u001b[0m\u001b[0;34m)\u001b[0m  \u001b[0;31m# normalize to probability distribution\u001b[0m\u001b[0;34m\u001b[0m\u001b[0;34m\u001b[0m\u001b[0m\n\u001b[1;32m   1239\u001b[0m         \u001b[0mbestn\u001b[0m \u001b[0;34m=\u001b[0m \u001b[0mmatutils\u001b[0m\u001b[0;34m.\u001b[0m\u001b[0margsort\u001b[0m\u001b[0;34m(\u001b[0m\u001b[0mtopic\u001b[0m\u001b[0;34m,\u001b[0m \u001b[0mtopn\u001b[0m\u001b[0;34m,\u001b[0m \u001b[0mreverse\u001b[0m\u001b[0;34m=\u001b[0m\u001b[0;32mTrue\u001b[0m\u001b[0;34m)\u001b[0m\u001b[0;34m\u001b[0m\u001b[0;34m\u001b[0m\u001b[0m\n",
      "\u001b[0;31mIndexError\u001b[0m: index 65 is out of bounds for axis 0 with size 25"
     ]
    }
   ],
   "source": [
    "for index, score in sorted(lda_model_tfidf[bow_corpus[6]], key=lambda tup: -1*tup[1]):\n",
    "    print(\"\\nScore: {}\\t \\nTopic: {}\".format(score, lda_model.print_topic(index, 10)))"
   ]
  },
  {
   "cell_type": "code",
   "execution_count": 325,
   "metadata": {},
   "outputs": [
    {
     "data": {
      "text/html": [
       "<div>\n",
       "<style scoped>\n",
       "    .dataframe tbody tr th:only-of-type {\n",
       "        vertical-align: middle;\n",
       "    }\n",
       "\n",
       "    .dataframe tbody tr th {\n",
       "        vertical-align: top;\n",
       "    }\n",
       "\n",
       "    .dataframe thead th {\n",
       "        text-align: right;\n",
       "    }\n",
       "</style>\n",
       "<table border=\"1\" class=\"dataframe\">\n",
       "  <thead>\n",
       "    <tr style=\"text-align: right;\">\n",
       "      <th></th>\n",
       "      <th>Document_No</th>\n",
       "      <th>Dominant_Topic</th>\n",
       "      <th>Topic_Perc_Contrib</th>\n",
       "      <th>Keywords</th>\n",
       "      <th>Text</th>\n",
       "    </tr>\n",
       "  </thead>\n",
       "  <tbody>\n",
       "    <tr>\n",
       "      <th>0</th>\n",
       "      <td>0</td>\n",
       "      <td>5.0</td>\n",
       "      <td>0.4889</td>\n",
       "      <td>people, like, bug, got, saw, dont, pretty, goi...</td>\n",
       "      <td>I drove from Wenatchee it only took about 30 m...</td>\n",
       "    </tr>\n",
       "    <tr>\n",
       "      <th>1</th>\n",
       "      <td>1</td>\n",
       "      <td>64.0</td>\n",
       "      <td>0.7031</td>\n",
       "      <td>little, bay, spot, people, compacted, plenty, ...</td>\n",
       "      <td>Arrived around 8:30am on sat morning and park ...</td>\n",
       "    </tr>\n",
       "    <tr>\n",
       "      <th>2</th>\n",
       "      <td>2</td>\n",
       "      <td>67.0</td>\n",
       "      <td>0.8142</td>\n",
       "      <td>park, picnic, goose, tunnel, area, table, walk...</td>\n",
       "      <td>Nice short leg stretcher hike with peak views....</td>\n",
       "    </tr>\n",
       "    <tr>\n",
       "      <th>3</th>\n",
       "      <td>3</td>\n",
       "      <td>33.0</td>\n",
       "      <td>0.9100</td>\n",
       "      <td>beautiful, easy, olallie, nice, talapus, littl...</td>\n",
       "      <td>This grail was perfect for small children! We ...</td>\n",
       "    </tr>\n",
       "    <tr>\n",
       "      <th>4</th>\n",
       "      <td>4</td>\n",
       "      <td>44.0</td>\n",
       "      <td>0.5430</td>\n",
       "      <td>wildflower, flower, meadow, mountain, ridge, p...</td>\n",
       "      <td>The road is rough, as everyone says. but high ...</td>\n",
       "    </tr>\n",
       "    <tr>\n",
       "      <th>5</th>\n",
       "      <td>5</td>\n",
       "      <td>44.0</td>\n",
       "      <td>0.4006</td>\n",
       "      <td>wildflower, flower, meadow, mountain, ridge, p...</td>\n",
       "      <td>A wildflower update for Berkeley Park. Bog gen...</td>\n",
       "    </tr>\n",
       "    <tr>\n",
       "      <th>6</th>\n",
       "      <td>6</td>\n",
       "      <td>45.0</td>\n",
       "      <td>0.3698</td>\n",
       "      <td>december, pond, excelsior, tree, harrys, peggy...</td>\n",
       "      <td>We planned to do this hike but could not make ...</td>\n",
       "    </tr>\n",
       "    <tr>\n",
       "      <th>7</th>\n",
       "      <td>7</td>\n",
       "      <td>13.0</td>\n",
       "      <td>0.4035</td>\n",
       "      <td>groomed, took, got, 2, monte, cristo, old, win...</td>\n",
       "      <td>Beautiful views! Once you get to the lake, you...</td>\n",
       "    </tr>\n",
       "    <tr>\n",
       "      <th>8</th>\n",
       "      <td>8</td>\n",
       "      <td>72.0</td>\n",
       "      <td>0.3065</td>\n",
       "      <td>area, tree, chain, beautiful, easy, bit, paved...</td>\n",
       "      <td>The trail was in good condition; there were so...</td>\n",
       "    </tr>\n",
       "    <tr>\n",
       "      <th>9</th>\n",
       "      <td>9</td>\n",
       "      <td>32.0</td>\n",
       "      <td>0.4391</td>\n",
       "      <td>spike, pole, micro, recommend, hiking, boot, h...</td>\n",
       "      <td>Great hike. Picked up hat and sunglasses left ...</td>\n",
       "    </tr>\n",
       "  </tbody>\n",
       "</table>\n",
       "</div>"
      ],
      "text/plain": [
       "   Document_No  Dominant_Topic  Topic_Perc_Contrib  \\\n",
       "0            0             5.0              0.4889   \n",
       "1            1            64.0              0.7031   \n",
       "2            2            67.0              0.8142   \n",
       "3            3            33.0              0.9100   \n",
       "4            4            44.0              0.5430   \n",
       "5            5            44.0              0.4006   \n",
       "6            6            45.0              0.3698   \n",
       "7            7            13.0              0.4035   \n",
       "8            8            72.0              0.3065   \n",
       "9            9            32.0              0.4391   \n",
       "\n",
       "                                            Keywords  \\\n",
       "0  people, like, bug, got, saw, dont, pretty, goi...   \n",
       "1  little, bay, spot, people, compacted, plenty, ...   \n",
       "2  park, picnic, goose, tunnel, area, table, walk...   \n",
       "3  beautiful, easy, olallie, nice, talapus, littl...   \n",
       "4  wildflower, flower, meadow, mountain, ridge, p...   \n",
       "5  wildflower, flower, meadow, mountain, ridge, p...   \n",
       "6  december, pond, excelsior, tree, harrys, peggy...   \n",
       "7  groomed, took, got, 2, monte, cristo, old, win...   \n",
       "8  area, tree, chain, beautiful, easy, bit, paved...   \n",
       "9  spike, pole, micro, recommend, hiking, boot, h...   \n",
       "\n",
       "                                                Text  \n",
       "0  I drove from Wenatchee it only took about 30 m...  \n",
       "1  Arrived around 8:30am on sat morning and park ...  \n",
       "2  Nice short leg stretcher hike with peak views....  \n",
       "3  This grail was perfect for small children! We ...  \n",
       "4  The road is rough, as everyone says. but high ...  \n",
       "5  A wildflower update for Berkeley Park. Bog gen...  \n",
       "6  We planned to do this hike but could not make ...  \n",
       "7  Beautiful views! Once you get to the lake, you...  \n",
       "8  The trail was in good condition; there were so...  \n",
       "9  Great hike. Picked up hat and sunglasses left ...  "
      ]
     },
     "execution_count": 325,
     "metadata": {},
     "output_type": "execute_result"
    }
   ],
   "source": [
    "#https://towardsdatascience.com/end-to-end-topic-modeling-in-python-latent-dirichlet-allocation-lda-35ce4ed6b3e0\n",
    "def format_topics_sentences(ldamodel=None, corpus = None, texts=None):\n",
    "    # Init output\n",
    "    sent_topics_df = pd.DataFrame()\n",
    "\n",
    "    # Get main topic in each document\n",
    "    for i, row_list in enumerate(ldamodel[corpus]):\n",
    "        row = row_list[0] if ldamodel.per_word_topics else row_list            \n",
    "        # print(row)\n",
    "        row = sorted(row, key=lambda x: (x[1]), reverse=True)\n",
    "        # Get the Dominant topic, Perc Contribution and Keywords for each document\n",
    "        for j, (topic_num, prop_topic) in enumerate(row):\n",
    "            if j == 0:  # => dominant topic\n",
    "                wp = ldamodel.show_topic(topic_num)\n",
    "                topic_keywords = \", \".join([word for word, prop in wp])\n",
    "                sent_topics_df = sent_topics_df.append(pd.Series([int(topic_num), round(prop_topic,4), topic_keywords]), ignore_index=True)\n",
    "            else:\n",
    "                break\n",
    "    sent_topics_df.columns = ['Dominant_Topic', 'Perc_Contribution', 'Topic_Keywords']\n",
    "\n",
    "    # Add original text to the end of the output\n",
    "    contents = pd.Series(texts)\n",
    "    sent_topics_df = pd.concat([sent_topics_df, contents], axis=1)\n",
    "    return(sent_topics_df)\n",
    "\n",
    "\n",
    "df_topic_sents_keywords = format_topics_sentences(ldamodel=lda_model, corpus=bow_corpus, texts=reports[\"Text\"])\n",
    "\n",
    "# Format\n",
    "df_dominant_topic = df_topic_sents_keywords.reset_index()\n",
    "df_dominant_topic.columns = ['Document_No', 'Dominant_Topic', 'Topic_Perc_Contrib', 'Keywords', 'Text']\n",
    "df_dominant_topic.head(10)"
   ]
  },
  {
   "cell_type": "code",
   "execution_count": 326,
   "metadata": {},
   "outputs": [
    {
     "name": "stdout",
     "output_type": "stream",
     "text": [
      "0.0 car, trailhead, got, group, hour, arrived, hiking, people, shoe, didnt\n",
      "1.0 ridge, section, pas, mountain, gt, steep, route, peak, pct, north\n",
      "2.0 ice, ridge, mountain, slope, tree, summit, microspikes, steep, foot, creek\n",
      "3.0 area, coal, park, little, town, loop, trailhead, red, today, paved\n",
      "4.0 beach, tide, park, sand, bluff, walk, low, state, point, island\n",
      "5.0 people, like, bug, got, saw, dont, pretty, going, bad, didnt\n",
      "6.0 canyon, highway, ridge, north, wall, bend, fall, mountain, old, y\n",
      "7.0 duck, eagle, saw, area, sound, pup, wildlife, easy, wood, bald\n",
      "8.0 knob, sunshine, burned, noble, 410, search, 2018, dalles, urban, greenwater\n",
      "9.0 si, new, teneriffe, mount, moss, summit, little, old, mt, loop\n",
      "10.0 saw, hiker, flower, trailhead, arrived, wildflower, car, mountain, group, easy\n",
      "11.0 trailhead, bit, car, park, pretty, grand, right, crust, good, going\n",
      "12.0 goat, pct, mountain, snowy, basin, snowgrass, kendall, foot, old, commonwealth\n",
      "13.0 groomed, took, got, 2, monte, cristo, old, winter, flag, new\n",
      "14.0 loop, north, saw, snake, south, eagle, creek, east, bridge, tree\n",
      "15.0 iron, valhalla, smithbrook, trailhead, palouse, mccausland, officially, violet, union, 1300\n",
      "16.0 took, rd, peak, midway, min, summit, hour, mount, rock, ridge\n",
      "17.0 beautiful, muddy, little, toddler, saw, place, trailhead, national, hiked, bad\n",
      "18.0 park, car, got, christmas, trailhead, school, people, didnt, parked, minute\n",
      "19.0 snowshoe, winter, packed, didnt, traction, trailhead, january, overlook, tree, icy\n",
      "20.0 rain, little, fog, tree, good, hiking, took, going, beautiful, today\n",
      "21.0 river, right, fork, creek, log, follow, tree, left, crossing, cross\n",
      "22.0 vehicle, clearance, trailhead, mt, high, car, drive, helen, good, condition\n",
      "23.0 wildflower, butte, mountain, good, like, summit, bit, ive, cloud, area\n",
      "24.0 avalanche, ridge, crossing, rock, foot, slope, steep, route, tree, stream\n",
      "25.0 pas, water, colchuck, like, trip, dont, people, aasgard, mountain, didnt\n",
      "26.0 peak, teanaway, area, pas, miller, iron, trailhead, right, snowfall, ridge\n",
      "27.0 creek, crossing, river, tree, water, log, bridge, foot, cross, pas\n",
      "28.0 classp1span, car, snowed, classp2span, people, point, classs1spanp, got, crunchy, artist\n",
      "29.0 summit, ice, microspikes, pole, boot, pretty, easy, spike, rock, got\n",
      "30.0 icy, winter, inch, snowice, rain, today, microspikes, ice, saw, new\n",
      "31.0 sunset, snowing, dark, headlamp, got, started, headed, larch, little, summit\n",
      "32.0 spike, pole, micro, recommend, hiking, boot, highly, trekking, good, packed\n",
      "33.0 beautiful, easy, olallie, nice, talapus, little, spot, wetland, pratt, robin\n",
      "34.0 ridge, boulder, peak, hiked, summit, guye, little, beautiful, trip, took\n",
      "35.0 th, toilet, trailhead, left, car, kiosk, arrived, sign, took, saw\n",
      "36.0 year, old, hiked, kid, took, end, wolf, 2, marsh, muddy\n",
      "37.0 silver, creek, shutdown, denny, fall, easy, mi, walk, path, bleeding\n",
      "38.0 bridge, fall, tree, river, lunch, today, creek, crossing, point, trailhead\n",
      "39.0 puddle, workout, good, elevation, stair, gain, wet, winter, memorial, wave\n",
      "40.0 bird, saw, beautiful, owl, yesterday, people, wildlife, nice, morning, car\n",
      "41.0 ski, pete, loop, hiker, mountain, headed, burroughs, track, windstorm, got\n",
      "42.0 grade, didnt, slide, upper, people, pretty, shed, fog, door, blaze\n",
      "43.0 route, got, target_blank, summit, started, condition, trailhead, noreferrer, relnoopener, gps\n",
      "44.0 wildflower, flower, meadow, mountain, ridge, peak, bloom, pas, area, plant\n",
      "45.0 december, pond, excelsior, tree, harrys, peggys, 2wd, good, condition, today\n",
      "46.0 lookout, device, frozen, track, microspikes, viewing, traction, today, government, switch\n",
      "47.0 rampart, ridge, rachel, lillian, van, alta, point, lila, park, trump\n",
      "48.0 snopark, valley, creek, staircase, trip, upper, trailhead, larch, diamond, pas\n",
      "49.0 mason, defiance, ira, spider, trailhead, island, spring, buck, jack, rainbow\n",
      "50.0 tree, foot, river, desert, ups, park, rail, bit, trip, down\n",
      "51.0 car, ice, arrived, cave, people, trailhead, got, beautiful, clear, spot\n",
      "52.0 mt, garden, people, trailhead, car, got, little, saw, pas, beautiful\n",
      "53.0 plowed, creek, campground, point, water, pretty, diablo, stehekin, dam, like\n",
      "54.0 fall, poo, nice, good, point, easy, muddy, fun, beautiful, enjoyed\n",
      "55.0 going, wind, pretty, didnt, balcony, hr, good, got, vehicle, easy\n",
      "56.0 camp, night, campsite, trailhead, tent, got, site, spot, overnight, morning\n",
      "57.0 bug, camp, water, mosquito, night, trip, spray, campsite, creek, overnight\n",
      "58.0 pas, camp, creek, got, meadow, people, pretty, water, pct, trailhead\n",
      "59.0 flower, blooming, lily, paintbrush, bloom, lupine, yellow, wildflower, wild, saw\n",
      "60.0 fall, sign, left, right, tree, lena, follow, old, logging, upper\n",
      "61.0 tiger, west, 3, line, hut, work, cable, good, new, spring\n",
      "62.0 people, nice, saw, kid, car, spot, like, little, dog, group\n",
      "63.0 fall, people, closed, good, little, kid, trailhead, compact, tree, easy\n",
      "64.0 little, bay, spot, people, compacted, plenty, easy, beautiful, street, good\n",
      "65.0 granite, thompson, town, loop, nice, trailhead, little, good, people, fall\n",
      "66.0 pothole, tree, vehicle, trailhead, slow, pretty, clearance, dont, water, report\n",
      "67.0 park, picnic, goose, tunnel, area, table, walk, nice, end, 2019\n",
      "68.0 datalinktypeexternal, park, reach, relnoopener, noreferrer, area, walk, south, north, cedar\n",
      "69.0 bike, river, tree, old, green, fir, growth, bridge, creek, forest\n",
      "70.0 tick, people, holiday, got, rim, beautiful, weekend, windy, water, early\n",
      "71.0 people, tree, bit, hiker, like, good, marten, spot, myrtle, area\n",
      "72.0 area, tree, chain, beautiful, easy, bit, paved, section, trailhead, pretty\n",
      "73.0 area, creek, sign, junction, left, tree, wilderness, forest, trailhead, ridge\n",
      "74.0 basin, trip, right, left, peak, pas, gothic, thunderstorm, water, foggy\n",
      "75.0 creek, area, easy, pond, hole, gold, pretty, good, loop, couple\n",
      "76.0 peak, steep, summit, rock, right, trailhead, bit, got, scramble, water\n",
      "77.0 sunrise, minute, hour, took, started, burroughs, little, morning, people, lunch\n",
      "78.0 little, golden, tree, got, pretty, snowy, chill, mountain, car, fun\n",
      "79.0 river, park, mowich, loop, wonderland, area, ipsut, camp, puyallup, campground\n",
      "80.0 maple, ann, heather, ingalls, pas, echo, grove, esmeralda, soup, corral\n",
      "81.0 gain, elevation, ft, summit, peak, ridge, foot, creek, mountain, tree\n",
      "82.0 point, camp, water, area, artist, spade, route, kit, rock, rope\n",
      "83.0 crystal, link, issaquah, mountain, map, peak, photo, alp, gap, property\n",
      "84.0 bag, fall, trash, poop, serene, people, dog, pack, bridal, good\n",
      "85.0 rock, hour, took, mountain, good, pole, climb, people, bandera, trailhead\n",
      "86.0 sawyer, lodge, car, spot, got, nice, good, didnt, right, map\n",
      "87.0 fall, teneriffe, nice, overlook, took, got, little, kamikaze, tho, spot\n",
      "88.0 tree, volunteer, blow, forest, work, lush, park, wta, creek, down\n",
      "89.0 right, pratt, junction, river, left, section, tree, forest, trailhead, took\n",
      "90.0 pretty, longmire, steep, saw, beautiful, got, people, paradise, easy, took\n",
      "91.0 amp, mountain, loop, creek, baldy, little, ridge, french, beautiful, kach\n",
      "92.0 dog, leash, people, owner, hiker, loop, good, saw, muddy, spot\n",
      "93.0 glacier, summit, ridge, peak, route, rock, camp, gully, basin, climb\n",
      "94.0 alt, datalinktypeexternalimage, classimageinline, datascalelarge, elk, cloud, summerland, mountain, group, area\n",
      "95.0 trillium, ridge, margaret, pretty, tree, good, got, observatory, went, car\n",
      "96.0 waterfall, fall, place, little, trailhead, beautiful, good, easy, muddy, bit\n",
      "97.0 right, left, gate, sign, map, track, mountain, trailhead, path, turn\n",
      "98.0 peak, creek, good, trailhead, nettle, saw, navaho, bean, area, pas\n",
      "99.0 bear, black, saw, deer, night, didnt, lunch, postholing, trip, little\n"
     ]
    }
   ],
   "source": [
    "def first(x):\n",
    "    return(x.iloc[0])\n",
    "sub = df_dominant_topic.groupby(by=\"Dominant_Topic\").agg(func = first)\n",
    "for index,row in sub.iterrows():\n",
    "    print(index,row['Keywords'])"
   ]
  },
  {
   "cell_type": "code",
   "execution_count": 327,
   "metadata": {},
   "outputs": [
    {
     "name": "stdout",
     "output_type": "stream",
     "text": [
      "(39600, 5) (39600, 10)\n"
     ]
    }
   ],
   "source": [
    "#https://www.machinelearningplus.com/nlp/topic-modeling-visualization-how-to-present-results-lda-models/#6.-What-is-the-Dominant-topic-and-its-percentage-contribution-in-each-document\n",
    "print(df_dominant_topic.shape,reports.shape)\n",
    "#pd.merge(reports,df,on = \"\")"
   ]
  },
  {
   "cell_type": "code",
   "execution_count": 330,
   "metadata": {},
   "outputs": [
    {
     "data": {
      "text/plain": [
       "(39600, 110)"
      ]
     },
     "execution_count": 330,
     "metadata": {},
     "output_type": "execute_result"
    }
   ],
   "source": [
    "topics= np.zeros([int(len(bow_corpus)),100])\n",
    "#print(topics.shape)\n",
    "for k in range(len(bow_corpus)):\n",
    "    for topic, prob in lda_model[bow_corpus[k]]:\n",
    "        topics[k,topic]=prob\n",
    "        #print(topics[k])\n",
    "        \n",
    "reps = pd.concat([reports,pd.DataFrame(topics)],axis=1)\n",
    "reps.shape"
   ]
  },
  {
   "cell_type": "code",
   "execution_count": 331,
   "metadata": {},
   "outputs": [
    {
     "name": "stdout",
     "output_type": "stream",
     "text": [
      "(41675, 123)\n",
      "['Unnamed: 0', 'Hike Name', 'User', 'Text', 'Date', 'URL_x', 'Region', 'Issues', 'Upvotes', 'nchar', 0, 1, 2, 3, 4, 5, 6, 7, 8, 9, 10, 11, 12, 13, 14, 15, 16, 17, 18, 19, 20, 21, 22, 23, 24, 25, 26, 27, 28, 29, 30, 31, 32, 33, 34, 35, 36, 37, 38, 39, 40, 41, 42, 43, 44, 45, 46, 47, 48, 49, 50, 51, 52, 53, 54, 55, 56, 57, 58, 59, 60, 61, 62, 63, 64, 65, 66, 67, 68, 69, 70, 71, 72, 73, 74, 75, 76, 77, 78, 79, 80, 81, 82, 83, 84, 85, 86, 87, 88, 89, 90, 91, 92, 93, 94, 95, 96, 97, 98, 99, 'TITLE', 'REGION', 'DISTANCE', 'DIST_TYPE', 'GAIN', 'HIGHEST', 'RATING', 'RATING_COUNT', 'LATITUDE', 'LONGITUDE', 'REPORT_DATE', 'REPORT_COUNT', 'URL_y']\n"
     ]
    },
    {
     "data": {
      "text/html": [
       "<div>\n",
       "<style scoped>\n",
       "    .dataframe tbody tr th:only-of-type {\n",
       "        vertical-align: middle;\n",
       "    }\n",
       "\n",
       "    .dataframe tbody tr th {\n",
       "        vertical-align: top;\n",
       "    }\n",
       "\n",
       "    .dataframe thead th {\n",
       "        text-align: right;\n",
       "    }\n",
       "</style>\n",
       "<table border=\"1\" class=\"dataframe\">\n",
       "  <thead>\n",
       "    <tr style=\"text-align: right;\">\n",
       "      <th></th>\n",
       "      <th>Unnamed: 0</th>\n",
       "      <th>Hike Name</th>\n",
       "      <th>User</th>\n",
       "      <th>Text</th>\n",
       "      <th>Date</th>\n",
       "      <th>URL_x</th>\n",
       "      <th>Region</th>\n",
       "      <th>Issues</th>\n",
       "      <th>Upvotes</th>\n",
       "      <th>nchar</th>\n",
       "      <th>...</th>\n",
       "      <th>DIST_TYPE</th>\n",
       "      <th>GAIN</th>\n",
       "      <th>HIGHEST</th>\n",
       "      <th>RATING</th>\n",
       "      <th>RATING_COUNT</th>\n",
       "      <th>LATITUDE</th>\n",
       "      <th>LONGITUDE</th>\n",
       "      <th>REPORT_DATE</th>\n",
       "      <th>REPORT_COUNT</th>\n",
       "      <th>URL_y</th>\n",
       "    </tr>\n",
       "  </thead>\n",
       "  <tbody>\n",
       "    <tr>\n",
       "      <th>0</th>\n",
       "      <td>0</td>\n",
       "      <td>Ingalls Creek</td>\n",
       "      <td>L. Mccy</td>\n",
       "      <td>I drove from Wenatchee it only took about 30 m...</td>\n",
       "      <td>Sep 01, 2020</td>\n",
       "      <td>\"https://www.wta.org/go-hiking/trip-reports/tr...</td>\n",
       "      <td>Central Cascades -- Blewett Pass</td>\n",
       "      <td>NaN</td>\n",
       "      <td>1.0</td>\n",
       "      <td>111.0</td>\n",
       "      <td>...</td>\n",
       "      <td>one-way</td>\n",
       "      <td>1450.0</td>\n",
       "      <td>3450.0</td>\n",
       "      <td>3.62</td>\n",
       "      <td>29.0</td>\n",
       "      <td>47.462833</td>\n",
       "      <td>-120.673217</td>\n",
       "      <td>2021-01-17</td>\n",
       "      <td>411.0</td>\n",
       "      <td>https://www.wta.org/go-hiking/hikes/ingalls-creek</td>\n",
       "    </tr>\n",
       "    <tr>\n",
       "      <th>1</th>\n",
       "      <td>1</td>\n",
       "      <td>Talapus and Olallie Lakes</td>\n",
       "      <td>larizinga</td>\n",
       "      <td>Arrived around 8:30am on sat morning and park ...</td>\n",
       "      <td>Aug 31, 2020</td>\n",
       "      <td>\"https://www.wta.org/go-hiking/trip-reports/tr...</td>\n",
       "      <td>Snoqualmie Region -- Snoqualmie Pass</td>\n",
       "      <td>road conditions</td>\n",
       "      <td>3.0</td>\n",
       "      <td>37.0</td>\n",
       "      <td>...</td>\n",
       "      <td>roundtrip</td>\n",
       "      <td>1220.0</td>\n",
       "      <td>3780.0</td>\n",
       "      <td>3.92</td>\n",
       "      <td>109.0</td>\n",
       "      <td>47.401254</td>\n",
       "      <td>-121.518359</td>\n",
       "      <td>2021-03-26</td>\n",
       "      <td>1497.0</td>\n",
       "      <td>https://www.wta.org/go-hiking/hikes/talapus-an...</td>\n",
       "    </tr>\n",
       "    <tr>\n",
       "      <th>2</th>\n",
       "      <td>2</td>\n",
       "      <td>Washington Pass Overlook</td>\n",
       "      <td>cloudmistress</td>\n",
       "      <td>Nice short leg stretcher hike with peak views....</td>\n",
       "      <td>Aug 31, 2020</td>\n",
       "      <td>\"https://www.wta.org/go-hiking/trip-reports/tr...</td>\n",
       "      <td>North Cascades -- North Cascades Highway - Hwy 20</td>\n",
       "      <td>bugs</td>\n",
       "      <td>1.0</td>\n",
       "      <td>54.0</td>\n",
       "      <td>...</td>\n",
       "      <td>roundtrip</td>\n",
       "      <td>61.0</td>\n",
       "      <td>5581.0</td>\n",
       "      <td>3.50</td>\n",
       "      <td>10.0</td>\n",
       "      <td>48.524538</td>\n",
       "      <td>-120.658134</td>\n",
       "      <td>2020-10-17</td>\n",
       "      <td>57.0</td>\n",
       "      <td>https://www.wta.org/go-hiking/hikes/washington...</td>\n",
       "    </tr>\n",
       "    <tr>\n",
       "      <th>3</th>\n",
       "      <td>3</td>\n",
       "      <td>Franklin Falls</td>\n",
       "      <td>Susan Black</td>\n",
       "      <td>This grail was perfect for small children! We ...</td>\n",
       "      <td>Aug 31, 2020</td>\n",
       "      <td>\"https://www.wta.org/go-hiking/trip-reports/tr...</td>\n",
       "      <td>Snoqualmie Region -- Snoqualmie Pass</td>\n",
       "      <td>NaN</td>\n",
       "      <td>1.0</td>\n",
       "      <td>34.0</td>\n",
       "      <td>...</td>\n",
       "      <td>roundtrip</td>\n",
       "      <td>400.0</td>\n",
       "      <td>2600.0</td>\n",
       "      <td>4.11</td>\n",
       "      <td>99.0</td>\n",
       "      <td>47.413108</td>\n",
       "      <td>-121.442769</td>\n",
       "      <td>2021-03-18</td>\n",
       "      <td>1120.0</td>\n",
       "      <td>https://www.wta.org/go-hiking/hikes/franklin-f...</td>\n",
       "    </tr>\n",
       "    <tr>\n",
       "      <th>4</th>\n",
       "      <td>4</td>\n",
       "      <td>Bear Creek Mountain</td>\n",
       "      <td>CascadeScrambler</td>\n",
       "      <td>The road is rough, as everyone says. but high ...</td>\n",
       "      <td>Aug 31, 2020</td>\n",
       "      <td>\"https://www.wta.org/go-hiking/trip-reports/tr...</td>\n",
       "      <td>South Cascades -- Goat Rocks</td>\n",
       "      <td>road conditions</td>\n",
       "      <td>7.0</td>\n",
       "      <td>183.0</td>\n",
       "      <td>...</td>\n",
       "      <td>roundtrip</td>\n",
       "      <td>1237.0</td>\n",
       "      <td>7337.0</td>\n",
       "      <td>3.50</td>\n",
       "      <td>10.0</td>\n",
       "      <td>46.538102</td>\n",
       "      <td>-121.316214</td>\n",
       "      <td>2020-10-03</td>\n",
       "      <td>59.0</td>\n",
       "      <td>https://www.wta.org/go-hiking/hikes/bear-creek...</td>\n",
       "    </tr>\n",
       "  </tbody>\n",
       "</table>\n",
       "<p>5 rows × 123 columns</p>\n",
       "</div>"
      ],
      "text/plain": [
       "   Unnamed: 0                  Hike Name              User  \\\n",
       "0           0              Ingalls Creek           L. Mccy   \n",
       "1           1  Talapus and Olallie Lakes         larizinga   \n",
       "2           2   Washington Pass Overlook     cloudmistress   \n",
       "3           3             Franklin Falls       Susan Black   \n",
       "4           4        Bear Creek Mountain  CascadeScrambler   \n",
       "\n",
       "                                                Text          Date  \\\n",
       "0  I drove from Wenatchee it only took about 30 m...  Sep 01, 2020   \n",
       "1  Arrived around 8:30am on sat morning and park ...  Aug 31, 2020   \n",
       "2  Nice short leg stretcher hike with peak views....  Aug 31, 2020   \n",
       "3  This grail was perfect for small children! We ...  Aug 31, 2020   \n",
       "4  The road is rough, as everyone says. but high ...  Aug 31, 2020   \n",
       "\n",
       "                                               URL_x  \\\n",
       "0  \"https://www.wta.org/go-hiking/trip-reports/tr...   \n",
       "1  \"https://www.wta.org/go-hiking/trip-reports/tr...   \n",
       "2  \"https://www.wta.org/go-hiking/trip-reports/tr...   \n",
       "3  \"https://www.wta.org/go-hiking/trip-reports/tr...   \n",
       "4  \"https://www.wta.org/go-hiking/trip-reports/tr...   \n",
       "\n",
       "                                              Region           Issues  \\\n",
       "0                   Central Cascades -- Blewett Pass              NaN   \n",
       "1               Snoqualmie Region -- Snoqualmie Pass  road conditions   \n",
       "2  North Cascades -- North Cascades Highway - Hwy 20             bugs   \n",
       "3               Snoqualmie Region -- Snoqualmie Pass              NaN   \n",
       "4                       South Cascades -- Goat Rocks  road conditions   \n",
       "\n",
       "   Upvotes  nchar  ...  DIST_TYPE    GAIN  HIGHEST  RATING  RATING_COUNT  \\\n",
       "0      1.0  111.0  ...    one-way  1450.0   3450.0    3.62          29.0   \n",
       "1      3.0   37.0  ...  roundtrip  1220.0   3780.0    3.92         109.0   \n",
       "2      1.0   54.0  ...  roundtrip    61.0   5581.0    3.50          10.0   \n",
       "3      1.0   34.0  ...  roundtrip   400.0   2600.0    4.11          99.0   \n",
       "4      7.0  183.0  ...  roundtrip  1237.0   7337.0    3.50          10.0   \n",
       "\n",
       "    LATITUDE   LONGITUDE  REPORT_DATE  REPORT_COUNT  \\\n",
       "0  47.462833 -120.673217   2021-01-17         411.0   \n",
       "1  47.401254 -121.518359   2021-03-26        1497.0   \n",
       "2  48.524538 -120.658134   2020-10-17          57.0   \n",
       "3  47.413108 -121.442769   2021-03-18        1120.0   \n",
       "4  46.538102 -121.316214   2020-10-03          59.0   \n",
       "\n",
       "                                               URL_y  \n",
       "0  https://www.wta.org/go-hiking/hikes/ingalls-creek  \n",
       "1  https://www.wta.org/go-hiking/hikes/talapus-an...  \n",
       "2  https://www.wta.org/go-hiking/hikes/washington...  \n",
       "3  https://www.wta.org/go-hiking/hikes/franklin-f...  \n",
       "4  https://www.wta.org/go-hiking/hikes/bear-creek...  \n",
       "\n",
       "[5 rows x 123 columns]"
      ]
     },
     "execution_count": 331,
     "metadata": {},
     "output_type": "execute_result"
    }
   ],
   "source": [
    "reps.head()\n",
    "data = pd.merge(reps,df,how='left',right_on=\"TITLE\",left_on=\"Hike Name\")\n",
    "print(data.shape)\n",
    "print(list(data))\n",
    "data.head()\n",
    "\n"
   ]
  },
  {
   "cell_type": "code",
   "execution_count": 439,
   "metadata": {},
   "outputs": [
    {
     "name": "stdout",
     "output_type": "stream",
     "text": [
      "764      False\n",
      "2694     False\n",
      "2842     False\n",
      "3589     False\n",
      "3629     False\n",
      "3724     False\n",
      "3976     False\n",
      "5156     False\n",
      "6882      True\n",
      "7328     False\n",
      "7408     False\n",
      "7660     False\n",
      "9020     False\n",
      "9021     False\n",
      "9040     False\n",
      "9360     False\n",
      "9470     False\n",
      "11217    False\n",
      "11475    False\n",
      "11770    False\n",
      "11959    False\n",
      "13106    False\n",
      "13539    False\n",
      "14504    False\n",
      "14506    False\n",
      "14825    False\n",
      "17607    False\n",
      "18724    False\n",
      "19077    False\n",
      "22408    False\n",
      "26040    False\n",
      "26400    False\n",
      "27949    False\n",
      "29018    False\n",
      "29237    False\n",
      "29257    False\n",
      "30412    False\n",
      "31596    False\n",
      "31741     True\n",
      "31872    False\n",
      "32028    False\n",
      "35144    False\n",
      "36413    False\n",
      "38280    False\n",
      "Name: Text, dtype: bool\n"
     ]
    },
    {
     "data": {
      "text/plain": [
       "\"At the trailhead at 08:40 on a Wednesday, and already there were maybe 20 cars in the lot.Â\\xa0 It's a big lot, but still that's a lot of people.Â\\xa0 Fortunately, they were all nice people.The road has a lot of potholes.Â\\xa0 It's not too bad if you take it really slowly.The trailhead toilet and trash bin were open!Not a lot of flowers on this trail, but there were some very nice patches, with foxglove just reaching its peak in the open areas.One complaint:Â\\xa0 Several people left bags of dog poop by the side of the trail.Â\\xa0 Sincerely hope they retrieved them on their way out.\""
      ]
     },
     "execution_count": 439,
     "metadata": {},
     "output_type": "execute_result"
    }
   ],
   "source": [
    "#ix = data.groupby(by=\"Hike Name\")[84].mean().index[data.groupby(by=\"Hike Name\")[84].mean().values>0.1]\n",
    "#print(sum(data.groupby(by=\"Hike Name\")[84].mean().values>0.1))\n",
    "#data.loc[data[\"Hike Name\"].isin(ix),\"Hike Name\"].nunique()\n",
    "\n",
    "\n",
    "\n",
    "trash = data.loc[data[84]>.5]\n",
    "print(trash['Text'].str.contains(\"trash\"))\n",
    "trash.loc[6882,'Text']\n",
    "#plt.hist(trash[\"Month\"])\n",
    "\n",
    "\n"
   ]
  },
  {
   "cell_type": "code",
   "execution_count": 374,
   "metadata": {},
   "outputs": [
    {
     "name": "stdout",
     "output_type": "stream",
     "text": [
      "The number of reports labelled with  hazards are: 19229\n",
      "[nan 'road conditions' 'bugs' 'trail conditions'\n",
      " 'bugs, road &amp; trail conditions' 'road, trail conditions'\n",
      " 'road, snow conditions' 'bugs, road conditions' 'bugs, trail conditions'\n",
      " 'snow conditions' 'road, snow &amp; trail conditions'\n",
      " 'bugs, road &amp; snow conditions'\n",
      " 'bugs, road, snow &amp; trail conditions' 'snow, trail conditions'\n",
      " 'bugs, snow conditions' 'bugs, snow &amp; trail conditions']\n",
      "The number of reports labelled with trail hazards are: 12359\n",
      "[nan False True]\n"
     ]
    }
   ],
   "source": [
    "#reports label\n",
    "print(\"The number of reports labelled with  hazards are:\" ,sum(data['Issues'].isnull()))\n",
    "print(data[\"Issues\"].unique())\n",
    "data['Road'] = data[\"Issues\"].str.contains('road')\n",
    "data['Trail'] = data[\"Issues\"].str.contains('trail')\n",
    "print(\"The number of reports labelled with trail hazards are:\" ,np.nansum(data['Trail']))\n",
    "#(\"The number of reports labelled with road hazards are:\" ,np.nansum(data['Road']))\n",
    "print(data['Trail'].unique())"
   ]
  },
  {
   "cell_type": "code",
   "execution_count": 372,
   "metadata": {},
   "outputs": [
    {
     "data": {
      "text/plain": [
       "0.3076923076923077"
      ]
     },
     "execution_count": 372,
     "metadata": {},
     "output_type": "execute_result"
    }
   ],
   "source": [
    "12/39"
   ]
  },
  {
   "cell_type": "code",
   "execution_count": 382,
   "metadata": {},
   "outputs": [
    {
     "name": "stdout",
     "output_type": "stream",
     "text": [
      "['Unnamed: 0', 'Hike Name', 'User', 'Text', 'Date', 'URL_x', 'Region', 'Issues', 'Upvotes', 'nchar', 0, 1, 2, 3, 4, 5, 6, 7, 8, 9, 10, 11, 12, 13, 14, 15, 16, 17, 18, 19, 20, 21, 22, 23, 24, 25, 26, 27, 28, 29, 30, 31, 32, 33, 34, 35, 36, 37, 38, 39, 40, 41, 42, 43, 44, 45, 46, 47, 48, 49, 50, 51, 52, 53, 54, 55, 56, 57, 58, 59, 60, 61, 62, 63, 64, 65, 66, 67, 68, 69, 70, 71, 72, 73, 74, 75, 76, 77, 78, 79, 80, 81, 82, 83, 84, 85, 86, 87, 88, 89, 90, 91, 92, 93, 94, 95, 96, 97, 98, 99, 'TITLE', 'REGION', 'DISTANCE', 'DIST_TYPE', 'GAIN', 'HIGHEST', 'RATING', 'RATING_COUNT', 'LATITUDE', 'LONGITUDE', 'REPORT_DATE', 'REPORT_COUNT', 'URL_y', 'Road', 'Trail']\n"
     ]
    },
    {
     "data": {
      "text/plain": [
       "0.5455018200728029"
      ]
     },
     "execution_count": 382,
     "metadata": {},
     "output_type": "execute_result"
    }
   ],
   "source": [
    "from sklearn.svm import SVC\n",
    "data=data.dropna()\n",
    "model = SVC(kernel='linear')\n",
    "print(list(data))\n",
    "y = data[\"Trail\"].astype(int)\n",
    "X = np.array(data.iloc[:,10:110])\n",
    "#print(sum(X.isnull()))\n",
    "model.fit(X,y)\n",
    "model.score(X,y)"
   ]
  },
  {
   "cell_type": "code",
   "execution_count": 399,
   "metadata": {},
   "outputs": [
    {
     "name": "stdout",
     "output_type": "stream",
     "text": [
      "[0.02979972]\n",
      "78\n"
     ]
    },
    {
     "data": {
      "image/png": "[encoded data removed]",
      "text/plain": [
       "<Figure size 432x288 with 1 Axes>"
      ]
     },
     "metadata": {
      "needs_background": "light"
     },
     "output_type": "display_data"
    }
   ],
   "source": [
    "#model.score(X,y)\n",
    "model.coef_.shape\n",
    "print(model.coef_.T[84])\n",
    "plt.hist(model.coef_.T)\n",
    "print(np.argmax(model.coef_))"
   ]
  },
  {
   "cell_type": "code",
   "execution_count": 380,
   "metadata": {},
   "outputs": [
    {
     "name": "stdout",
     "output_type": "stream",
     "text": [
      "['Unnamed: 0', 'Hike Name', 'User', 'Text', 'Date', 'URL_x', 'Region', 'Issues', 'Upvotes', 'nchar', 0, 1, 2, 3, 4, 5, 6, 7, 8, 9, 10, 11, 12, 13, 14, 15, 16, 17, 18, 19, 20, 21, 22, 23, 24, 25, 26, 27, 28, 29, 30, 31, 32, 33, 34, 35, 36, 37, 38, 39, 40, 41, 42, 43, 44, 45, 46, 47, 48, 49, 50, 51, 52, 53, 54, 55, 56, 57, 58, 59, 60, 61, 62, 63, 64, 65, 66, 67, 68, 69, 70, 71, 72, 73, 74, 75, 76, 77, 78, 79, 80, 81, 82, 83, 84, 85, 86, 87, 88, 89, 90, 91, 92, 93, 94, 95, 96, 97, 98, 99, 'TITLE', 'REGION', 'DISTANCE', 'DIST_TYPE', 'GAIN', 'HIGHEST', 'RATING', 'RATING_COUNT', 'LATITUDE', 'LONGITUDE', 'REPORT_DATE', 'REPORT_COUNT', 'URL_y', 'Road', 'Trail']\n"
     ]
    },
    {
     "ename": "KeyboardInterrupt",
     "evalue": "",
     "output_type": "error",
     "traceback": [
      "\u001b[0;31m---------------------------------------------------------------------------\u001b[0m",
      "\u001b[0;31mKeyboardInterrupt\u001b[0m                         Traceback (most recent call last)",
      "\u001b[0;32m<ipython-input-380-0a5764ff4764>\u001b[0m in \u001b[0;36m<module>\u001b[0;34m\u001b[0m\n\u001b[1;32m      5\u001b[0m \u001b[0mX\u001b[0m \u001b[0;34m=\u001b[0m \u001b[0mnp\u001b[0m\u001b[0;34m.\u001b[0m\u001b[0marray\u001b[0m\u001b[0;34m(\u001b[0m\u001b[0mX\u001b[0m\u001b[0;34m.\u001b[0m\u001b[0miloc\u001b[0m\u001b[0;34m[\u001b[0m\u001b[0;34m:\u001b[0m\u001b[0;34m,\u001b[0m\u001b[0;36m10\u001b[0m\u001b[0;34m:\u001b[0m\u001b[0;36m110\u001b[0m\u001b[0;34m]\u001b[0m\u001b[0;34m)\u001b[0m\u001b[0;34m\u001b[0m\u001b[0;34m\u001b[0m\u001b[0m\n\u001b[1;32m      6\u001b[0m \u001b[0;31m#print(sum(X.isnull()))\u001b[0m\u001b[0;34m\u001b[0m\u001b[0;34m\u001b[0m\u001b[0;34m\u001b[0m\u001b[0m\n\u001b[0;32m----> 7\u001b[0;31m \u001b[0mmodel\u001b[0m\u001b[0;34m.\u001b[0m\u001b[0mfit\u001b[0m\u001b[0;34m(\u001b[0m\u001b[0mX\u001b[0m\u001b[0;34m,\u001b[0m\u001b[0my\u001b[0m\u001b[0;34m)\u001b[0m\u001b[0;34m\u001b[0m\u001b[0;34m\u001b[0m\u001b[0m\n\u001b[0m\u001b[1;32m      8\u001b[0m \u001b[0mmodel\u001b[0m\u001b[0;34m.\u001b[0m\u001b[0mscore\u001b[0m\u001b[0;34m(\u001b[0m\u001b[0mX\u001b[0m\u001b[0;34m,\u001b[0m\u001b[0my\u001b[0m\u001b[0;34m)\u001b[0m\u001b[0;34m\u001b[0m\u001b[0;34m\u001b[0m\u001b[0m\n",
      "\u001b[0;32m~/opt/anaconda3/lib/python3.7/site-packages/sklearn/svm/_base.py\u001b[0m in \u001b[0;36mfit\u001b[0;34m(self, X, y, sample_weight)\u001b[0m\n\u001b[1;32m    197\u001b[0m \u001b[0;34m\u001b[0m\u001b[0m\n\u001b[1;32m    198\u001b[0m         \u001b[0mseed\u001b[0m \u001b[0;34m=\u001b[0m \u001b[0mrnd\u001b[0m\u001b[0;34m.\u001b[0m\u001b[0mrandint\u001b[0m\u001b[0;34m(\u001b[0m\u001b[0mnp\u001b[0m\u001b[0;34m.\u001b[0m\u001b[0miinfo\u001b[0m\u001b[0;34m(\u001b[0m\u001b[0;34m'i'\u001b[0m\u001b[0;34m)\u001b[0m\u001b[0;34m.\u001b[0m\u001b[0mmax\u001b[0m\u001b[0;34m)\u001b[0m\u001b[0;34m\u001b[0m\u001b[0;34m\u001b[0m\u001b[0m\n\u001b[0;32m--> 199\u001b[0;31m         \u001b[0mfit\u001b[0m\u001b[0;34m(\u001b[0m\u001b[0mX\u001b[0m\u001b[0;34m,\u001b[0m \u001b[0my\u001b[0m\u001b[0;34m,\u001b[0m \u001b[0msample_weight\u001b[0m\u001b[0;34m,\u001b[0m \u001b[0msolver_type\u001b[0m\u001b[0;34m,\u001b[0m \u001b[0mkernel\u001b[0m\u001b[0;34m,\u001b[0m \u001b[0mrandom_seed\u001b[0m\u001b[0;34m=\u001b[0m\u001b[0mseed\u001b[0m\u001b[0;34m)\u001b[0m\u001b[0;34m\u001b[0m\u001b[0;34m\u001b[0m\u001b[0m\n\u001b[0m\u001b[1;32m    200\u001b[0m         \u001b[0;31m# see comment on the other call to np.iinfo in this file\u001b[0m\u001b[0;34m\u001b[0m\u001b[0;34m\u001b[0m\u001b[0;34m\u001b[0m\u001b[0m\n\u001b[1;32m    201\u001b[0m \u001b[0;34m\u001b[0m\u001b[0m\n",
      "\u001b[0;32m~/opt/anaconda3/lib/python3.7/site-packages/sklearn/svm/_base.py\u001b[0m in \u001b[0;36m_dense_fit\u001b[0;34m(self, X, y, sample_weight, solver_type, kernel, random_seed)\u001b[0m\n\u001b[1;32m    256\u001b[0m                 \u001b[0mcache_size\u001b[0m\u001b[0;34m=\u001b[0m\u001b[0mself\u001b[0m\u001b[0;34m.\u001b[0m\u001b[0mcache_size\u001b[0m\u001b[0;34m,\u001b[0m \u001b[0mcoef0\u001b[0m\u001b[0;34m=\u001b[0m\u001b[0mself\u001b[0m\u001b[0;34m.\u001b[0m\u001b[0mcoef0\u001b[0m\u001b[0;34m,\u001b[0m\u001b[0;34m\u001b[0m\u001b[0;34m\u001b[0m\u001b[0m\n\u001b[1;32m    257\u001b[0m                 \u001b[0mgamma\u001b[0m\u001b[0;34m=\u001b[0m\u001b[0mself\u001b[0m\u001b[0;34m.\u001b[0m\u001b[0m_gamma\u001b[0m\u001b[0;34m,\u001b[0m \u001b[0mepsilon\u001b[0m\u001b[0;34m=\u001b[0m\u001b[0mself\u001b[0m\u001b[0;34m.\u001b[0m\u001b[0mepsilon\u001b[0m\u001b[0;34m,\u001b[0m\u001b[0;34m\u001b[0m\u001b[0;34m\u001b[0m\u001b[0m\n\u001b[0;32m--> 258\u001b[0;31m                 max_iter=self.max_iter, random_seed=random_seed)\n\u001b[0m\u001b[1;32m    259\u001b[0m \u001b[0;34m\u001b[0m\u001b[0m\n\u001b[1;32m    260\u001b[0m         \u001b[0mself\u001b[0m\u001b[0;34m.\u001b[0m\u001b[0m_warn_from_fit_status\u001b[0m\u001b[0;34m(\u001b[0m\u001b[0;34m)\u001b[0m\u001b[0;34m\u001b[0m\u001b[0;34m\u001b[0m\u001b[0m\n",
      "\u001b[0;31mKeyboardInterrupt\u001b[0m: "
     ]
    }
   ],
   "source": [
    "from sklearn.svm import SVC\n",
    "data=data.dropna()\n",
    "model = SVC(kernel='linear')\n",
    "print(list(data))\n",
    "y = data[\"Trail\"].astype(int)\n",
    "X = np.array(data.iloc[:,94])\n",
    "#print(sum(X.isnull()))\n",
    "model.fit(X,y)\n",
    "model.score(X,y)"
   ]
  },
  {
   "cell_type": "code",
   "execution_count": null,
   "metadata": {},
   "outputs": [],
   "source": []
  }
 ],
 "metadata": {
  "kernelspec": {
   "display_name": "Python 3",
   "language": "python",
   "name": "python3"
  },
  "language_info": {
   "codemirror_mode": {
    "name": "ipython",
    "version": 3
   },
   "file_extension": ".py",
   "mimetype": "text/x-python",
   "name": "python",
   "nbconvert_exporter": "python",
   "pygments_lexer": "ipython3",
   "version": "3.7.6"
  }
 },
 "nbformat": 4,
 "nbformat_minor": 4
}
